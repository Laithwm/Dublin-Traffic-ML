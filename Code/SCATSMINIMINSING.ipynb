{
 "cells": [
  {
   "cell_type": "code",
   "execution_count": 22,
   "id": "3810c2d8",
   "metadata": {},
   "outputs": [],
   "source": [
    "import pandas as pd\n",
    "\n",
    "file_path = r\"D:\\UNI STUFF\\YEAR3\\SEM1\\Advanced Machine Learning\\CA1\\SCATSAugust2025.csv\"\n",
    "\n",
    "# Step 1: Load in small chunks and sample evenly from each part of the file\n",
    "chunks = pd.read_csv(file_path, chunksize=100000)\n",
    "df_list = []\n",
    "\n",
    "for chunk in chunks:\n",
    "    # convert End_Time for each chunk\n",
    "    chunk['End_Time'] = pd.to_datetime(chunk['End_Time'].astype(str), format='%Y%m%d%H%M%S', errors='coerce')\n",
    "    # keep only valid timestamps and non-missing target\n",
    "    chunk = chunk.dropna(subset=['End_Time', 'Sum_Volume'])\n",
    "    # take 5% from each chunk\n",
    "    sample = chunk.sample(frac=0.05, random_state=42)\n",
    "    df_list.append(sample)\n",
    "\n",
    "# Step 2: combine all samples\n",
    "df = pd.concat(df_list, ignore_index=True)\n"
   ]
  },
  {
   "cell_type": "code",
   "execution_count": 23,
   "id": "45358c99",
   "metadata": {},
   "outputs": [
    {
     "name": "stdout",
     "output_type": "stream",
     "text": [
      "Subset saved at: D:\\UNI STUFF\\YEAR3\\SEM1\\Advanced Machine Learning\\CA1\\SCATS_CA1_Subset.csv\n",
      "DayOfWeek\n",
      "Friday       98862\n",
      "Sunday       98478\n",
      "Saturday     92902\n",
      "Monday       73592\n",
      "Thursday     61324\n",
      "Wednesday    59492\n",
      "Tuesday      54780\n",
      "Name: count, dtype: int64\n"
     ]
    }
   ],
   "source": [
    "\n",
    "# Create features\n",
    "df['Hour'] = df['End_Time'].dt.hour\n",
    "df['DayOfWeek'] = df['End_Time'].dt.day_name()\n",
    "df['Month'] = df['End_Time'].dt.month\n",
    "\n",
    "# Keep relevant columns\n",
    "df = df[['End_Time','Region','Site','Detector','Sum_Volume','Hour','DayOfWeek','Month']]\n",
    "\n",
    "# Save the diverse subset\n",
    "save_path = r\"D:\\UNI STUFF\\YEAR3\\SEM1\\Advanced Machine Learning\\CA1\\SCATS_CA1_Subset.csv\"\n",
    "df.to_csv(save_path, index=False)\n",
    "\n",
    "print(\"Subset saved at:\", save_path)\n",
    "print(df['DayOfWeek'].value_counts())\n"
   ]
  },
  {
   "cell_type": "code",
   "execution_count": 24,
   "id": "23aa6c11",
   "metadata": {},
   "outputs": [
    {
     "name": "stdout",
     "output_type": "stream",
     "text": [
      "(539430, 8)\n",
      "End_Time       object\n",
      "Region         object\n",
      "Site            int64\n",
      "Detector      float64\n",
      "Sum_Volume    float64\n",
      "Hour            int64\n",
      "DayOfWeek      object\n",
      "Month           int64\n",
      "dtype: object\n",
      "DayOfWeek\n",
      "Friday       98862\n",
      "Sunday       98478\n",
      "Saturday     92902\n",
      "Monday       73592\n",
      "Thursday     61324\n",
      "Wednesday    59492\n",
      "Tuesday      54780\n",
      "Name: count, dtype: int64\n",
      "2025-08-01 00:00:00 2025-08-31 23:00:00\n"
     ]
    }
   ],
   "source": [
    "import pandas as pd\n",
    "\n",
    "# Load the subset\n",
    "file_path = r\"D:\\UNI STUFF\\YEAR3\\SEM1\\Advanced Machine Learning\\CA1\\SCATS_CA1_Subset.csv\"\n",
    "df = pd.read_csv(file_path)\n",
    "\n",
    "# Check basic info\n",
    "print(df.shape)\n",
    "print(df.dtypes)\n",
    "\n",
    "# Confirm diversity\n",
    "print(df['DayOfWeek'].value_counts())\n",
    "print(df['End_Time'].min(), df['End_Time'].max())\n",
    "\n"
   ]
  },
  {
   "cell_type": "code",
   "execution_count": null,
   "id": "00558c02",
   "metadata": {},
   "outputs": [],
   "source": [
    "\n"
   ]
  },
  {
   "cell_type": "code",
   "execution_count": null,
   "id": "710a58db",
   "metadata": {},
   "outputs": [],
   "source": [
    "\n"
   ]
  }
 ],
 "metadata": {
  "kernelspec": {
   "display_name": "Python 3",
   "language": "python",
   "name": "python3"
  },
  "language_info": {
   "codemirror_mode": {
    "name": "ipython",
    "version": 3
   },
   "file_extension": ".py",
   "mimetype": "text/x-python",
   "name": "python",
   "nbconvert_exporter": "python",
   "pygments_lexer": "ipython3",
   "version": "3.11.9"
  }
 },
 "nbformat": 4,
 "nbformat_minor": 5
}
